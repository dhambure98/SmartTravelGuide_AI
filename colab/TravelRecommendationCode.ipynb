{
  "cells": [
    {
      "cell_type": "code",
      "execution_count": 1,
      "metadata": {
        "id": "3rDugczl6iXC"
      },
      "outputs": [],
      "source": [
        "# Import necessary libraries\n",
        "import pandas as pd\n",
        "import numpy as np\n",
        "from sklearn.feature_extraction.text import TfidfVectorizer\n",
        "from sklearn.metrics.pairwise import cosine_similarity\n",
        "from sklearn.preprocessing import MinMaxScaler\n",
        "from sklearn.neighbors import NearestNeighbors\n",
        "import nltk\n",
        "from nltk.tokenize import word_tokenize\n",
        "from nltk.corpus import stopwords\n",
        "import re"
      ]
    },
    {
      "cell_type": "code",
      "execution_count": null,
      "metadata": {
        "colab": {
          "base_uri": "https://localhost:8080/"
        },
        "id": "eKgwVIBN61OE",
        "outputId": "2cab185d-d9cf-4485-ab53-3cee0c97c6e2"
      },
      "outputs": [],
      "source": [
        "# Download required NLTK data\n",
        "nltk.download('punkt')\n",
        "nltk.download('stopwords')"
      ]
    },
    {
      "cell_type": "code",
      "execution_count": 15,
      "metadata": {
        "id": "LjVmEhVR67Kf"
      },
      "outputs": [],
      "source": [
        "class TravelRecommender:\n",
        "    def __init__(self, data_path):\n",
        "        \"\"\"\n",
        "        Initialize the recommendation system with the dataset\n",
        "        \"\"\"\n",
        "        self.df = pd.read_csv(data_path)\n",
        "        self.preprocess_data()\n",
        "\n",
        "    def preprocess_data(self):\n",
        "        \"\"\"\n",
        "        Preprocess the dataset for both content-based and collaborative filtering\n",
        "        \"\"\"\n",
        "        # Clean text data\n",
        "        self.df['attractions'] = self.df['attractions'].fillna('')\n",
        "        self.df['user_preferences'] = self.df['user_preferences'].fillna('')\n",
        "\n",
        "        # Normalize budget\n",
        "        scaler = MinMaxScaler()\n",
        "        self.df['normalized_budget'] = scaler.fit_transform(self.df[['budget']])\n",
        "\n",
        "        # Create TF-IDF vectors for attractions and preferences\n",
        "        self.tfidf = TfidfVectorizer(stop_words='english')\n",
        "        self.attractions_matrix = self.tfidf.fit_transform(self.df['attractions'])\n",
        "        self.preferences_matrix = self.tfidf.transform(self.df['user_preferences'])\n",
        "\n",
        "    def content_based_search(self, user_preferences, budget_range, top_n=5):\n",
        "        \"\"\"\n",
        "        Content-based filtering using TF-IDF and cosine similarity\n",
        "        \"\"\"\n",
        "        # Transform user preferences\n",
        "        user_vec = self.tfidf.transform([user_preferences])\n",
        "\n",
        "        # Calculate similarity scores\n",
        "        content_similarity = cosine_similarity(user_vec, self.attractions_matrix)\n",
        "\n",
        "        # Filter by budget\n",
        "        budget_mask = (self.df['budget'] >= budget_range[0]) & (self.df['budget'] <= budget_range[1])\n",
        "\n",
        "        # Combine scores and budget filter\n",
        "        recommendations = []\n",
        "        for idx, score in enumerate(content_similarity[0]):\n",
        "            if budget_mask[idx]:\n",
        "                recommendations.append((self.df.iloc[idx], score))\n",
        "\n",
        "        # Sort and get top recommendations\n",
        "        recommendations.sort(key=lambda x: x[1], reverse=True)\n",
        "        return recommendations[:top_n]\n",
        "\n",
        "    def collaborative_filtering(self, user_preferences, age, budget, top_n=5):\n",
        "        \"\"\"\n",
        "        Collaborative filtering using K-Nearest Neighbors\n",
        "        \"\"\"\n",
        "        # Create user feature vector\n",
        "        user_features = np.concatenate([\n",
        "            self.tfidf.transform([user_preferences]).toarray(),\n",
        "            [[age, budget]]\n",
        "        ], axis=1)\n",
        "\n",
        "        # Create feature matrix for all users\n",
        "        feature_matrix = np.concatenate([\n",
        "            self.preferences_matrix.toarray(),\n",
        "            self.df[['age', 'budget']].values\n",
        "        ], axis=1)\n",
        "\n",
        "        # Find nearest neighbors\n",
        "        knn = NearestNeighbors(n_neighbors=top_n+1, metric='cosine')\n",
        "        knn.fit(feature_matrix)\n",
        "\n",
        "        distances, indices = knn.kneighbors(user_features)\n",
        "\n",
        "        return [(self.df.iloc[idx], 1 - dist) for dist, idx in zip(distances[0][1:], indices[0][1:])]\n",
        "\n",
        "    def hybrid_recommendations(self, user_preferences, age, budget_range, top_n=5):\n",
        "        \"\"\"\n",
        "        Combine both recommendation methods for better results\n",
        "        \"\"\"\n",
        "        # Get recommendations from both methods\n",
        "        content_recs = self.content_based_search(user_preferences, budget_range, top_n)\n",
        "        collab_recs = self.collaborative_filtering(user_preferences, age, (budget_range[0] + budget_range[1])/2, top_n)\n",
        "\n",
        "        # Combine and weight the recommendations\n",
        "        hybrid_scores = {}\n",
        "\n",
        "        # Weight for combining (can be adjusted)\n",
        "        content_weight = 0.6\n",
        "        collab_weight = 0.4\n",
        "\n",
        "        # Process content-based recommendations\n",
        "        for dest, score in content_recs:\n",
        "            hybrid_scores[dest['destination_id']] = score * content_weight\n",
        "\n",
        "        # Process collaborative filtering recommendations\n",
        "        for dest, score in collab_recs:\n",
        "            dest_id = dest['destination_id']\n",
        "            if dest_id in hybrid_scores:\n",
        "                hybrid_scores[dest_id] += score * collab_weight\n",
        "            else:\n",
        "                hybrid_scores[dest_id] = score * collab_weight\n",
        "\n",
        "        # Get final recommendations\n",
        "        final_recommendations = []\n",
        "        for dest_id, score in sorted(hybrid_scores.items(), key=lambda x: x[1], reverse=True)[:top_n]:\n",
        "            destination = self.df[self.df['destination_id'] == dest_id].iloc[0]\n",
        "            final_recommendations.append((destination, score))\n",
        "\n",
        "        return final_recommendations\n",
        "\n",
        "    def evaluate_recommendations(self, test_users):\n",
        "        \"\"\"\n",
        "        Evaluate the recommendation system using precision and user satisfaction metrics\n",
        "        \"\"\"\n",
        "        precision_scores = []\n",
        "        satisfaction_scores = []\n",
        "\n",
        "        for user in test_users:\n",
        "            # Get recommendations\n",
        "            recs = self.hybrid_recommendations(\n",
        "                user['preferences'],\n",
        "                user['age'],\n",
        "                (user['budget'] * 0.8, user['budget'] * 1.2)\n",
        "            )\n",
        "\n",
        "            # Calculate precision (assuming we have ground truth data)\n",
        "            relevant_count = sum(1 for rec, _ in recs if rec['popularity'] > 4.0)\n",
        "            precision = relevant_count / len(recs)\n",
        "            precision_scores.append(precision)\n",
        "\n",
        "            # Calculate estimated user satisfaction based on preference matching\n",
        "            satisfaction = np.mean([score for _, score in recs])\n",
        "            satisfaction_scores.append(satisfaction)\n",
        "\n",
        "        return {\n",
        "            'average_precision': np.mean(precision_scores),\n",
        "            'average_satisfaction': np.mean(satisfaction_scores)\n",
        "            }"
      ]
    },
    {
      "cell_type": "code",
      "execution_count": null,
      "metadata": {
        "colab": {
          "base_uri": "https://localhost:8080/"
        },
        "id": "hDewBNL47FxK",
        "outputId": "81ec8c1e-0132-4835-c93f-79cf13b4a564"
      },
      "outputs": [],
      "source": [
        "# Mount Google Drive (if dataset is stored there)\n",
        "from google.colab import drive\n",
        "drive.mount('/content/drive')\n",
        "\n",
        "# Initialize the recommender system\n",
        "recommender = TravelRecommender('data/Travel.csv')\n",
        "\n",
        "# Example user\n",
        "user_preferences = \"mountain hiking nature photography cultural experiences\"\n",
        "age = 28\n",
        "budget_range = (2000,10000)\n",
        "\n",
        "# Get recommendations\n",
        "recommendations = recommender.hybrid_recommendations(user_preferences, age, budget_range)\n",
        "\n",
        "# Print recommendations\n",
        "for destination, score in recommendations:\n",
        "    print(f\"Destination: {destination['name']}\")\n",
        "    print(f\"Region: {destination['region']}\")\n",
        "    print(f\"Budget: {destination['budget']}\")\n",
        "    print(f\"Best Season: {destination['best_season']}\")\n",
        "    print(f\"Match Score: {score:.2f}\")\n",
        "    print(\"---\")\n"
      ]
    },
    {
      "cell_type": "code",
      "execution_count": 5,
      "metadata": {
        "id": "HRxSOGUB7Jpa"
      },
      "outputs": [],
      "source": []
    },
    {
      "cell_type": "code",
      "execution_count": 6,
      "metadata": {
        "id": "N7cvkln17NRO"
      },
      "outputs": [],
      "source": []
    },
    {
      "cell_type": "code",
      "execution_count": 7,
      "metadata": {
        "id": "RiyiHFvu7Qbl"
      },
      "outputs": [],
      "source": []
    },
    {
      "cell_type": "code",
      "execution_count": 16,
      "metadata": {
        "id": "qw_yR8Zv7UPo"
      },
      "outputs": [],
      "source": []
    },
    {
      "cell_type": "code",
      "execution_count": 16,
      "metadata": {
        "id": "FfITzHzF7bR8"
      },
      "outputs": [],
      "source": []
    },
    {
      "cell_type": "code",
      "execution_count": null,
      "metadata": {
        "id": "k7QedVXX7fQd"
      },
      "outputs": [],
      "source": []
    }
  ],
  "metadata": {
    "colab": {
      "provenance": []
    },
    "kernelspec": {
      "display_name": ".venv",
      "language": "python",
      "name": "python3"
    },
    "language_info": {
      "name": "python",
      "version": "3.12.8"
    }
  },
  "nbformat": 4,
  "nbformat_minor": 0
}
